{
 "cells": [
  {
   "cell_type": "markdown",
   "metadata": {},
   "source": [
    "# Callbacks and Multiple inputs"
   ]
  },
  {
   "cell_type": "code",
   "execution_count": null,
   "metadata": {},
   "outputs": [],
   "source": [
    "import pandas as pd\n",
    "import numpy as np\n",
    "%matplotlib inline\n",
    "import matplotlib.pyplot as plt\n",
    "\n",
    "from sklearn.preprocessing import scale\n",
    "\n",
    "from keras.optimizers import SGD\n",
    "from keras.layers import Dense, Input, concatenate, BatchNormalization\n",
    "from keras.callbacks import EarlyStopping, TensorBoard, ModelCheckpoint\n",
    "from keras.models import Model\n",
    "import keras.backend as K"
   ]
  },
  {
   "cell_type": "code",
   "execution_count": null,
   "metadata": {},
   "outputs": [],
   "source": [
    "df = pd.read_csv(\"../data/titanic-train.csv\")\n",
    "Y = df['Survived']"
   ]
  },
  {
   "cell_type": "code",
   "execution_count": null,
   "metadata": {},
   "outputs": [],
   "source": [
    "df.info()"
   ]
  },
  {
   "cell_type": "code",
   "execution_count": null,
   "metadata": {},
   "outputs": [],
   "source": [
    "df.head()"
   ]
  },
  {
   "cell_type": "code",
   "execution_count": null,
   "metadata": {},
   "outputs": [],
   "source": [
    "num_features = df[['Age', 'Fare', 'SibSp', 'Parch']].fillna(0)\n",
    "num_features.head()"
   ]
  },
  {
   "cell_type": "code",
   "execution_count": null,
   "metadata": {},
   "outputs": [],
   "source": [
    "cat_features = pd.get_dummies(df[['Pclass', 'Sex', 'Embarked']].astype('str'))\n",
    "cat_features.head()"
   ]
  },
  {
   "cell_type": "code",
   "execution_count": null,
   "metadata": {},
   "outputs": [],
   "source": [
    "X1 = scale(num_features.values)\n",
    "X2 = cat_features.values"
   ]
  },
  {
   "cell_type": "code",
   "execution_count": null,
   "metadata": {},
   "outputs": [],
   "source": [
    "K.clear_session()\n",
    "\n",
    "# Numerical features branch\n",
    "inputs1 = Input(shape = (X1.shape[1],))\n",
    "b1 = BatchNormalization()(inputs1)\n",
    "b1 = Dense(3, kernel_initializer='normal', activation = 'tanh')(b1)\n",
    "b1 = BatchNormalization()(b1)\n",
    "\n",
    "# Categorical features branch\n",
    "inputs2 = Input(shape = (X2.shape[1],))\n",
    "b2 = Dense(8, kernel_initializer='normal', activation = 'relu')(inputs2)\n",
    "b2 = BatchNormalization()(b2)\n",
    "b2 = Dense(4, kernel_initializer='normal', activation = 'relu')(b2)\n",
    "b2 = BatchNormalization()(b2)\n",
    "b2 = Dense(2, kernel_initializer='normal', activation = 'relu')(b2)\n",
    "b2 = BatchNormalization()(b2)\n",
    "\n",
    "merged = concatenate([b1, b2])\n",
    "preds = Dense(1, activation = 'sigmoid')(merged)\n",
    "\n",
    "# final model\n",
    "model = Model([inputs1, inputs2], preds)\n",
    "\n",
    "model.compile(loss = 'binary_crossentropy',\n",
    "              optimizer = 'rmsprop',\n",
    "              metrics = ['accuracy'])\n",
    "\n",
    "model.summary()"
   ]
  },
  {
   "cell_type": "code",
   "execution_count": null,
   "metadata": {},
   "outputs": [],
   "source": [
    "outpath='/tmp/tensorflow_logs/titanic/'\n",
    "\n",
    "early_stopper = EarlyStopping(monitor='val_acc', patience=10)\n",
    "tensorboard = TensorBoard(outpath+'tensorboard/', histogram_freq=1)\n",
    "checkpointer = ModelCheckpoint(outpath+'weights_epoch_{epoch:02d}_val_acc_{val_acc:.2f}.hdf5',\n",
    "                               monitor='val_acc')"
   ]
  },
  {
   "cell_type": "code",
   "execution_count": null,
   "metadata": {},
   "outputs": [],
   "source": [
    "# You may have to run this a couple of times if stuck on local minimum\n",
    "np.random.seed(2017)\n",
    "h = model.fit([X1, X2],\n",
    "              Y.values,\n",
    "              batch_size = 32,\n",
    "              epochs = 40,\n",
    "              verbose = 1,\n",
    "              validation_split=0.2,\n",
    "              callbacks=[early_stopper,\n",
    "                         tensorboard,\n",
    "                         checkpointer])"
   ]
  },
  {
   "cell_type": "code",
   "execution_count": null,
   "metadata": {},
   "outputs": [],
   "source": [
    "import os\n",
    "sorted(os.listdir(outpath))"
   ]
  },
  {
   "cell_type": "markdown",
   "metadata": {},
   "source": [
    "Now check the tensorboard.\n",
    "\n",
    "- If using provided aws instance, just browse to: `http://<your-ip>:6006`\n",
    "\n",
    "- If using local, open a terminal, activate the environment and run:\n",
    "```\n",
    "tensorboard --logdir=/tmp/tensorflow_logs/titanic/tensorboard/\n",
    "```\n",
    "then open a browser at `localhost:6006`\n",
    "\n",
    "You should see something like this:\n",
    "\n",
    "![tensorboard.png](../assets/tensorboard.png)"
   ]
  },
  {
   "cell_type": "markdown",
   "metadata": {},
   "source": [
    "## Exercise 1\n",
    "\n",
    "- try modifying the parameters of the 3 callbacks provided. What are they for? What do they do?"
   ]
  },
  {
   "cell_type": "code",
   "execution_count": null,
   "metadata": {
    "tags": [
     "solution",
     "empty"
    ]
   },
   "outputs": [],
   "source": []
  },
  {
   "cell_type": "markdown",
   "metadata": {},
   "source": [
    "*Copyright &copy; 2017 CATALIT LLC.  All rights reserved.*"
   ]
  }
 ],
 "metadata": {
  "kernelspec": {
   "display_name": "Python 3",
   "language": "python",
   "name": "python3"
  },
  "language_info": {
   "codemirror_mode": {
    "name": "ipython",
    "version": 3
   },
   "file_extension": ".py",
   "mimetype": "text/x-python",
   "name": "python",
   "nbconvert_exporter": "python",
   "pygments_lexer": "ipython3",
   "version": "3.6.4"
  }
 },
 "nbformat": 4,
 "nbformat_minor": 2
}
