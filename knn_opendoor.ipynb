{
 "cells": [
  {
   "cell_type": "code",
   "execution_count": 34,
   "metadata": {},
   "outputs": [],
   "source": [
    "import pandas as pd\n",
    "from geopy.distance import vincenty\n",
    "import datetime as dt\n",
    "from sklearn.neighbors import KNeighborsRegressor, RadiusNeighborsRegressor\n",
    "from sklearn.model_selection import train_test_split\n",
    "import matplotlib.pyplot as plt\n",
    "%matplotlib inline"
   ]
  },
  {
   "cell_type": "markdown",
   "metadata": {},
   "source": [
    "A possible approach would be to sort the dataframe w.r.t close_date so that time leakage is handled by using\n",
    "only the elements above to calculate nearest neighbour weights."
   ]
  },
  {
   "cell_type": "code",
   "execution_count": 10,
   "metadata": {},
   "outputs": [],
   "source": [
    "df = pd.read_csv('data.csv')"
   ]
  },
  {
   "cell_type": "code",
   "execution_count": 11,
   "metadata": {},
   "outputs": [
    {
     "data": {
      "text/html": [
       "<div>\n",
       "<style scoped>\n",
       "    .dataframe tbody tr th:only-of-type {\n",
       "        vertical-align: middle;\n",
       "    }\n",
       "\n",
       "    .dataframe tbody tr th {\n",
       "        vertical-align: top;\n",
       "    }\n",
       "\n",
       "    .dataframe thead th {\n",
       "        text-align: right;\n",
       "    }\n",
       "</style>\n",
       "<table border=\"1\" class=\"dataframe\">\n",
       "  <thead>\n",
       "    <tr style=\"text-align: right;\">\n",
       "      <th></th>\n",
       "      <th>latitude</th>\n",
       "      <th>longitude</th>\n",
       "      <th>close_date</th>\n",
       "      <th>close_price</th>\n",
       "    </tr>\n",
       "  </thead>\n",
       "  <tbody>\n",
       "    <tr>\n",
       "      <th>0</th>\n",
       "      <td>1.501986</td>\n",
       "      <td>86.350685</td>\n",
       "      <td>2014-08-16 22:25:31.925431</td>\n",
       "      <td>1.302246e+06</td>\n",
       "    </tr>\n",
       "    <tr>\n",
       "      <th>1</th>\n",
       "      <td>36.367095</td>\n",
       "      <td>-98.664280</td>\n",
       "      <td>2014-08-05 06:34:00.165876</td>\n",
       "      <td>1.475045e+05</td>\n",
       "    </tr>\n",
       "    <tr>\n",
       "      <th>2</th>\n",
       "      <td>36.599284</td>\n",
       "      <td>-97.924700</td>\n",
       "      <td>2014-08-12 23:48:00.887510</td>\n",
       "      <td>1.374006e+05</td>\n",
       "    </tr>\n",
       "    <tr>\n",
       "      <th>3</th>\n",
       "      <td>67.994791</td>\n",
       "      <td>64.688589</td>\n",
       "      <td>2014-08-17 05:27:01.404296</td>\n",
       "      <td>-1.411200e+04</td>\n",
       "    </tr>\n",
       "    <tr>\n",
       "      <th>4</th>\n",
       "      <td>36.647982</td>\n",
       "      <td>-97.866100</td>\n",
       "      <td>2014-08-09 04:00:40.358242</td>\n",
       "      <td>2.391053e+05</td>\n",
       "    </tr>\n",
       "  </tbody>\n",
       "</table>\n",
       "</div>"
      ],
      "text/plain": [
       "    latitude  longitude                  close_date   close_price\n",
       "0   1.501986  86.350685  2014-08-16 22:25:31.925431  1.302246e+06\n",
       "1  36.367095 -98.664280  2014-08-05 06:34:00.165876  1.475045e+05\n",
       "2  36.599284 -97.924700  2014-08-12 23:48:00.887510  1.374006e+05\n",
       "3  67.994791  64.688589  2014-08-17 05:27:01.404296 -1.411200e+04\n",
       "4  36.647982 -97.866100  2014-08-09 04:00:40.358242  2.391053e+05"
      ]
     },
     "execution_count": 11,
     "metadata": {},
     "output_type": "execute_result"
    }
   ],
   "source": [
    "df.head()"
   ]
  },
  {
   "cell_type": "code",
   "execution_count": 27,
   "metadata": {},
   "outputs": [],
   "source": [
    "# # df = pd.read_csv('data.csv')\n",
    "# df = pd.read_csv('data.csv').sort_values(by=['close_date'],kind='mergesort')\n",
    "\n",
    "# #y = df['close_price']\n",
    "# #X = df.drop(columns=['close_price'])\n",
    "# # print(df.head())\n",
    "# print(df['latitude'])\n",
    "# # print(df.tail())\n",
    "# # def time_leakage(X):\n",
    "\n",
    "\n",
    "#  # pass\n",
    "# # print(X.head())\n",
    "# # X_train, X_test, y_train, y_test = train_test_split(X, y, test_size=0.25, random_state=42)\n",
    "\n",
    "# # knn_regressor = KNeighborsRegressor()\n",
    "# # knn_regressor.fit(X_train, y_train)"
   ]
  },
  {
   "cell_type": "code",
   "execution_count": 33,
   "metadata": {},
   "outputs": [],
   "source": [
    "#df.sort_values(by=['close_date'], kind='mergesort')"
   ]
  },
  {
   "cell_type": "code",
   "execution_count": null,
   "metadata": {},
   "outputs": [],
   "source": []
  },
  {
   "cell_type": "code",
   "execution_count": null,
   "metadata": {},
   "outputs": [],
   "source": []
  },
  {
   "cell_type": "code",
   "execution_count": null,
   "metadata": {},
   "outputs": [],
   "source": []
  }
 ],
 "metadata": {
  "kernelspec": {
   "display_name": "Python 3",
   "language": "python",
   "name": "python3"
  },
  "language_info": {
   "codemirror_mode": {
    "name": "ipython",
    "version": 3
   },
   "file_extension": ".py",
   "mimetype": "text/x-python",
   "name": "python",
   "nbconvert_exporter": "python",
   "pygments_lexer": "ipython3",
   "version": "3.6.4"
  }
 },
 "nbformat": 4,
 "nbformat_minor": 2
}
